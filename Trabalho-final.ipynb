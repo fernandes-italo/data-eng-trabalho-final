{
 "cells": [
  {
   "cell_type": "markdown",
   "metadata": {},
   "source": [
    "## Trabalho Final\n",
    "\n",
    "Carregue os arquivos no Hadoop/Hive, em seguida construa as seguintes analises:\n",
    "\n",
    "1) Total de acidentes com vítima por bairro em acidentes com embriaguez;\n",
    "\n",
    "2) Total de acidentes por tipo de pavimento e condição do tempo;\n",
    "\n",
    "3) Total de pessoas acidentadas por tipo de veiculo e tipo de pavimentação;\n",
    "\n",
    "4) Média de idade dos condutores por tipo de veículo e tipo de acidente;\n",
    "\n",
    "5) Média de idade dos condutores por indicativo de embriaguez;"
   ]
  },
  {
   "cell_type": "code",
   "execution_count": 107,
   "metadata": {},
   "outputs": [],
   "source": [
    "# carregando dados\n",
    "\n",
    "df_env = spark.read.csv(\"hdfs://node1:8020//user/vagrant/dados/trabalho-final/si_env-2019.csv\", sep=';', header=True, encoding = 'latin1')\n",
    "df_bol = spark.read.csv(\"hdfs://node1:8020//user/vagrant/dados/trabalho-final/si-bol-2019.csv\", sep=';', header=True, encoding = 'latin1')\n",
    "df_log = spark.read.csv(\"hdfs://node1:8020//user/vagrant/dados/trabalho-final/si-log-2019.csv\", sep=';', header=True, encoding = 'latin1')"
   ]
  },
  {
   "cell_type": "code",
   "execution_count": 108,
   "metadata": {},
   "outputs": [],
   "source": [
    "# fazendo join das tabelas\n",
    "\n",
    "df_join = df_env.join(df_bol, df_env['num_boletim'] == df_bol[' NUMERO_BOLETIM'], 'left').join(df_log, df_env['num_boletim'] == df_log['Nº_boletim'], 'left')"
   ]
  },
  {
   "cell_type": "code",
   "execution_count": 109,
   "metadata": {},
   "outputs": [],
   "source": [
    "# importando libs\n",
    "\n",
    "import pyspark.sql.functions as F"
   ]
  },
  {
   "cell_type": "code",
   "execution_count": 110,
   "metadata": {},
   "outputs": [
    {
     "name": "stdout",
     "output_type": "stream",
     "text": [
      "+--------------------------------------------------+---------------+\n",
      "|nome_bairro                                       |total_acidentes|\n",
      "+--------------------------------------------------+---------------+\n",
      "|SANTA EFIGENIA                                    |17             |\n",
      "|CENTRO                                            |13             |\n",
      "|LOURDES                                           |11             |\n",
      "|CIDADE NOVA                                       |9              |\n",
      "|PLANALTO                                          |9              |\n",
      "|HELIOPOLIS                                        |8              |\n",
      "|CARLOS PRATES                                     |8              |\n",
      "|SAVASSI                                           |8              |\n",
      "|TIROL                                             |7              |\n",
      "|COPACABANA                                        |7              |\n",
      "+--------------------------------------------------+---------------+\n",
      "only showing top 10 rows\n",
      "\n"
     ]
    }
   ],
   "source": [
    "# 1 Total de acidentes com vítima por bairro em acidentes com embriagues\n",
    "\n",
    "df_resposta1 = df_join.filter(df_join[' DESC_TIPO_ACIDENTE'].like('%COM VITIMA%') | df_join[' DESC_TIPO_ACIDENTE'].like('%C/ VITIMA%')).filter(df_join[' Embreagues'] == 'SIM')\n",
    "df_resposta1 = df_resposta1.groupby('nome_bairro').agg(F.count('*').alias('total_acidentes'))\n",
    "df_resposta1.orderBy(F.col('total_acidentes').desc()).show(10, 0)"
   ]
  },
  {
   "cell_type": "code",
   "execution_count": 111,
   "metadata": {},
   "outputs": [
    {
     "name": "stdout",
     "output_type": "stream",
     "text": [
      "+---------------+---------------+---------------+\n",
      "| PAVIMENTO     | DESC_TEMPO    |total_acidentes|\n",
      "+---------------+---------------+---------------+\n",
      "|NAO INFORMADO  |NAO INFORMADO  |18884          |\n",
      "|ASFALTO        |BOM            |16535          |\n",
      "|ASFALTO        |CHUVA          |1358           |\n",
      "|ASFALTO        |NUBLADO        |825            |\n",
      "|ASFALTO        |NAO INFORMADO  |336            |\n",
      "|CONCRETO       |BOM            |129            |\n",
      "|NAO INFORMADO  |BOM            |124            |\n",
      "|CALCAMENTO     |BOM            |109            |\n",
      "|CONCRETO       |NUBLADO        |52             |\n",
      "|ASFALTO        |NEBLINA        |19             |\n",
      "+---------------+---------------+---------------+\n",
      "only showing top 10 rows\n",
      "\n"
     ]
    }
   ],
   "source": [
    "# 2 Total de acidentes por tipo de pavimento e condição do tempo\n",
    "\n",
    "df_resposta2 = df_join.groupby(' PAVIMENTO', ' DESC_TEMPO').agg(F.count('*').alias('total_acidentes'))\n",
    "df_resposta2.orderBy(F.col('total_acidentes').desc()).show(10, 0)"
   ]
  },
  {
   "cell_type": "code",
   "execution_count": 112,
   "metadata": {},
   "outputs": [
    {
     "name": "stdout",
     "output_type": "stream",
     "text": [
      "+------------------------------+---------------+-----------------+\n",
      "|especie_veiculo               | PAVIMENTO     |total_acidentados|\n",
      "+------------------------------+---------------+-----------------+\n",
      "|AUTOMOVEL                     |ASFALTO        |16835.0          |\n",
      "|AUTOMOVEL                     |NAO INFORMADO  |13659.0          |\n",
      "|MOTOCICLETA                   |NAO INFORMADO  |11936.0          |\n",
      "|MOTOCICLETA                   |ASFALTO        |11479.0          |\n",
      "|                              |NAO INFORMADO  |2204.0           |\n",
      "|ONIBUS                        |ASFALTO        |2085.0           |\n",
      "|ONIBUS                        |NAO INFORMADO  |2001.0           |\n",
      "|                              |ASFALTO        |1697.0           |\n",
      "|CAMINHONETE                   |ASFALTO        |957.0            |\n",
      "|ONIBUS                        |CONCRETO       |827.0            |\n",
      "+------------------------------+---------------+-----------------+\n",
      "only showing top 10 rows\n",
      "\n"
     ]
    }
   ],
   "source": [
    "# 3 Total de pessoas acidentadas por tipo de veiculo e tipo de pavimentação\n",
    "\n",
    "df_resposta3 = df_join.groupby('especie_veiculo', ' PAVIMENTO').agg(F.sum(' Nº_envolvido').alias('total_acidentados'))\n",
    "df_resposta3.orderBy(F.col('total_acidentados').desc()).show(10, 0)"
   ]
  },
  {
   "cell_type": "code",
   "execution_count": 115,
   "metadata": {
    "scrolled": false
   },
   "outputs": [
    {
     "name": "stdout",
     "output_type": "stream",
     "text": [
      "+------------------------------+--------------------------------------------------+-----------+\n",
      "|especie_veiculo               | DESC_TIPO_ACIDENTE                               |media_idade|\n",
      "+------------------------------+--------------------------------------------------+-----------+\n",
      "|                              |QUEDA DE PESSOA DE VEICULO                        |34.0       |\n",
      "|AUTOMOVEL                     |QUEDA DE VEICULO COM VITIMA                       |38.3       |\n",
      "|AUTOMOVEL                     |ATROPELAMENTO DE PESSOA SEM VITIMA FATAL          |35.84      |\n",
      "|AUTOMOVEL                     |ATROPELAMENTO DE PESSOA COM VITIMA FATAL          |30.81      |\n",
      "|AUTOMOVEL                     |ABALROAMENTO COM VITIMA                           |37.87      |\n",
      "|AUTOMOVEL                     |ATROPELAMENTO DE ANIMAL COM VITIMA                |25.0       |\n",
      "|AUTOMOVEL                     |COLISAO DE VEICULOS COM VITIMA                    |37.69      |\n",
      "|AUTOMOVEL                     |CAPOTAMENTO/TOMBAMENTO COM VITIMA                 |33.97      |\n",
      "|AUTOMOVEL                     |QUEDA E/OU VAZAMENTO DE CARGA DE VEICULO C/ VITIMA|14.0       |\n",
      "|AUTOMOVEL                     |QUEDA DE PESSOA DE VEICULO                        |36.51      |\n",
      "+------------------------------+--------------------------------------------------+-----------+\n",
      "only showing top 10 rows\n",
      "\n"
     ]
    }
   ],
   "source": [
    "# 4 Média de idade dos condutores por tipo de veículo e tipo de acidente\n",
    "\n",
    "df_resposta4 = df_join.filter(df_join[' condutor'] == 'S').groupby('especie_veiculo', ' DESC_TIPO_ACIDENTE').agg(F.avg(' Idade').alias('media_idade'))\n",
    "df_resposta4 = df_resposta4.withColumn(\"media_idade\", F.round(df_resposta4[\"media_idade\"], 2))\n",
    "df_resposta4.orderBy(F.col('especie_veiculo').asc()).show(10, 0)"
   ]
  },
  {
   "cell_type": "code",
   "execution_count": 114,
   "metadata": {
    "scrolled": false
   },
   "outputs": [
    {
     "name": "stdout",
     "output_type": "stream",
     "text": [
      "+-------------+----------------------+\n",
      "| Embreagues  |media_idade_condutores|\n",
      "+-------------+----------------------+\n",
      "|NÃO          |36.91                 |\n",
      "|SIM          |36.52                 |\n",
      "|NÃO INFORMADO|0.95                  |\n",
      "+-------------+----------------------+\n",
      "\n"
     ]
    }
   ],
   "source": [
    "# 5 Média de idade dos condutores por indicativo de embriaguez\n",
    "\n",
    "df_resposta5 = df_join.filter(df_join[' condutor'] == 'S').groupby(' Embreagues').agg(F.avg(' Idade').alias('media_idade_condutores'))\n",
    "df_resposta5 = df_resposta5.withColumn(\"media_idade_condutores\", F.round(df_resposta5[\"media_idade_condutores\"], 2))\n",
    "df_resposta5.show(truncate=0)"
   ]
  },
  {
   "cell_type": "code",
   "execution_count": null,
   "metadata": {},
   "outputs": [],
   "source": []
  }
 ],
 "metadata": {
  "kernelspec": {
   "display_name": "Python 2",
   "language": "python",
   "name": "python2"
  },
  "language_info": {
   "codemirror_mode": {
    "name": "ipython",
    "version": 2
   },
   "file_extension": ".py",
   "mimetype": "text/x-python",
   "name": "python",
   "nbconvert_exporter": "python",
   "pygments_lexer": "ipython2",
   "version": "2.7.12"
  }
 },
 "nbformat": 4,
 "nbformat_minor": 2
}
